{
 "cells": [
  {
   "cell_type": "code",
   "execution_count": null,
   "id": "194a87aa-3c2c-43e2-82a0-3a1e802ba1ca",
   "metadata": {},
   "outputs": [],
   "source": [
    "Q1. Create a python program to sort the given list of tuples based on integer value using a \n",
    "lambda function. \n",
    "\n",
    "[('Sachin Tendulkar', 34357), ('Ricky Ponting', 27483), ('Jack Kallis', 25534), ('Virat Kohli', 24936)]"
   ]
  },
  {
   "cell_type": "code",
   "execution_count": 1,
   "id": "a9eb3cfb-31cd-4a43-a60e-c9d1e17f5c8f",
   "metadata": {},
   "outputs": [],
   "source": [
    "l1 =[('Sachin Tendulkar', 34357), ('Ricky Ponting', 27483), ('Jack Kallis', 25534), ('Virat Kohli', 24936)] "
   ]
  },
  {
   "cell_type": "code",
   "execution_count": 8,
   "id": "a248224b-aa3d-40df-909e-6d56d3071815",
   "metadata": {},
   "outputs": [
    {
     "name": "stdout",
     "output_type": "stream",
     "text": [
      "('Virat Kohli', 24936)\n",
      "('Jack Kallis', 25534)\n",
      "('Ricky Ponting', 27483)\n",
      "('Sachin Tendulkar', 34357)\n"
     ]
    }
   ],
   "source": [
    "sort_data =  sorted(l1,key = lambda x: x[1] )\n",
    "\n",
    "for item in sort_data:\n",
    "    print(item)"
   ]
  },
  {
   "cell_type": "code",
   "execution_count": null,
   "id": "bd67a0ae-ff76-4c0f-ab9c-7c6b5b81f3ba",
   "metadata": {},
   "outputs": [],
   "source": [
    "Q2. Write a Python Program to find the squares of all the numbers in the given list of integers using \n",
    "lambda and map functions.\n",
    "[1, 2, 3, 4, 5, 6, 7, 8, 9, 10]"
   ]
  },
  {
   "cell_type": "code",
   "execution_count": 9,
   "id": "697605b5-27ec-4928-b250-10e66af5a921",
   "metadata": {},
   "outputs": [],
   "source": [
    "l2 = [1,2,3,4,5,6,7,8,9,10]"
   ]
  },
  {
   "cell_type": "code",
   "execution_count": 10,
   "id": "f7e7266d-3e36-412e-915e-390c35af2367",
   "metadata": {},
   "outputs": [],
   "source": [
    "square = list(map(lambda x : x**2,l2))"
   ]
  },
  {
   "cell_type": "code",
   "execution_count": 12,
   "id": "66ed98e1-9278-4203-aefc-04de70944d0e",
   "metadata": {},
   "outputs": [
    {
     "name": "stdout",
     "output_type": "stream",
     "text": [
      "[1, 4, 9, 16, 25, 36, 49, 64, 81, 100]\n"
     ]
    }
   ],
   "source": [
    "print(square)"
   ]
  },
  {
   "cell_type": "code",
   "execution_count": null,
   "id": "97463527-ac27-4a61-866a-0529cf01f994",
   "metadata": {},
   "outputs": [],
   "source": [
    "Q3. Write a python program to convert the given list of integers into a tuple of strings. Use map and \n",
    "lambda functions\n",
    "\n",
    "\n",
    "Given String: [1, 2, 3, 4, 5, 6, 7, 8, 9, 10]\n",
    "\n",
    "Expected output: ('1', '2', '3', '4', '5', '6', '7', '8', '9', '10')"
   ]
  },
  {
   "cell_type": "code",
   "execution_count": 13,
   "id": "e6e1805f-3e8d-4973-add7-754749ba32e3",
   "metadata": {},
   "outputs": [],
   "source": [
    "l3 = [1,2,3,4,5,6,7,8,9,10]"
   ]
  },
  {
   "cell_type": "code",
   "execution_count": 14,
   "id": "54490a23-8faa-4720-85f8-36f9ede0bf4a",
   "metadata": {},
   "outputs": [],
   "source": [
    "tuple_of_string = tuple(map(lambda x : str(x),l3))"
   ]
  },
  {
   "cell_type": "code",
   "execution_count": 15,
   "id": "446f4ba9-1e49-4eb4-9bbe-667655642b45",
   "metadata": {},
   "outputs": [
    {
     "data": {
      "text/plain": [
       "('1', '2', '3', '4', '5', '6', '7', '8', '9', '10')"
      ]
     },
     "execution_count": 15,
     "metadata": {},
     "output_type": "execute_result"
    }
   ],
   "source": [
    "tuple_of_string"
   ]
  },
  {
   "cell_type": "code",
   "execution_count": null,
   "id": "cb01ef2e-23c2-4e92-b2c3-3d720dcc8442",
   "metadata": {},
   "outputs": [],
   "source": [
    "Q4.  Write a python program using reduce function to compute the product of a list containing numbers \n",
    "from 1 to 25"
   ]
  },
  {
   "cell_type": "code",
   "execution_count": 4,
   "id": "52c06b44-90c7-48b4-b2b0-1fdc5ac9b63a",
   "metadata": {},
   "outputs": [],
   "source": [
    "from functools import reduce"
   ]
  },
  {
   "cell_type": "code",
   "execution_count": 12,
   "id": "0c78105c-b57e-4a8d-bf3d-97ea7714a6bc",
   "metadata": {},
   "outputs": [],
   "source": [
    "number = range(1,26)"
   ]
  },
  {
   "cell_type": "code",
   "execution_count": 16,
   "id": "fa63d2be-7c64-4553-96d1-d9ca4dc26fcc",
   "metadata": {},
   "outputs": [
    {
     "data": {
      "text/plain": [
       "15511210043330985984000000"
      ]
     },
     "execution_count": 16,
     "metadata": {},
     "output_type": "execute_result"
    }
   ],
   "source": [
    "reduce(lambda x,y:x*y,number)"
   ]
  },
  {
   "cell_type": "code",
   "execution_count": null,
   "id": "6b0576b6-90c7-450f-8002-628c59e0fb3d",
   "metadata": {},
   "outputs": [],
   "source": [
    "Q5. Write a python program to filter the numbers in a given list that are divisible by 2 and 3 using the \n",
    "filter function.\n",
    "\n",
    "[2, 3, 6, 9, 27, 60, 90, 120, 55, 46]"
   ]
  },
  {
   "cell_type": "code",
   "execution_count": 17,
   "id": "f05f7a23-7986-44cc-81d5-77b57569b6c1",
   "metadata": {},
   "outputs": [],
   "source": [
    "number = [2,3,6,9,27,60,90,120,55,46]"
   ]
  },
  {
   "cell_type": "code",
   "execution_count": 24,
   "id": "71228cdb-5fea-4c01-a5fb-79271e279f67",
   "metadata": {},
   "outputs": [
    {
     "data": {
      "text/plain": [
       "[6, 60, 90, 120]"
      ]
     },
     "execution_count": 24,
     "metadata": {},
     "output_type": "execute_result"
    }
   ],
   "source": [
    "list(filter(lambda x : x%2==0 and x%3==0 , number))"
   ]
  },
  {
   "cell_type": "code",
   "execution_count": null,
   "id": "5e0a1978-2cf5-4019-b9f0-2233f01c6147",
   "metadata": {},
   "outputs": [],
   "source": [
    "Q6. Write a python program to find palindromes in the given list of strings using lambda and filter \n",
    "function.\n",
    "\n",
    "['python', 'php', 'aba', 'radar', 'level']"
   ]
  },
  {
   "cell_type": "code",
   "execution_count": 38,
   "id": "89d3d0d1-1447-426d-b406-e3120db2c5b8",
   "metadata": {},
   "outputs": [],
   "source": [
    "Strings = ['python', 'php', 'aba', 'radar', 'level']"
   ]
  },
  {
   "cell_type": "code",
   "execution_count": null,
   "id": "43ac562a-2101-47d2-965b-90ed759a2b6d",
   "metadata": {},
   "outputs": [],
   "source": [
    "list(filter(lambda x : x == x[::-1],Strings))"
   ]
  },
  {
   "cell_type": "code",
   "execution_count": null,
   "id": "08d5c62d-e132-4953-88e9-55a21a767138",
   "metadata": {},
   "outputs": [],
   "source": [
    "['php', 'aba', 'radar', 'level']\n"
   ]
  }
 ],
 "metadata": {
  "kernelspec": {
   "display_name": "Python 3 (ipykernel)",
   "language": "python",
   "name": "python3"
  },
  "language_info": {
   "codemirror_mode": {
    "name": "ipython",
    "version": 3
   },
   "file_extension": ".py",
   "mimetype": "text/x-python",
   "name": "python",
   "nbconvert_exporter": "python",
   "pygments_lexer": "ipython3",
   "version": "3.10.8"
  }
 },
 "nbformat": 4,
 "nbformat_minor": 5
}
